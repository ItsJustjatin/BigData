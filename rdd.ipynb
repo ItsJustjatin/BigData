{
  "nbformat": 4,
  "nbformat_minor": 0,
  "metadata": {
    "colab": {
      "provenance": []
    },
    "kernelspec": {
      "name": "python3",
      "display_name": "Python 3"
    },
    "language_info": {
      "name": "python"
    }
  },
  "cells": [
    {
      "cell_type": "markdown",
      "source": [
        "**AIM:** To demonstrate the use of PySpark RDD (Resilient Distributed Dataset) operations for performing various transformations and actions on employee data, leveraging the distributed computing capabilities of Apache Spark.\n"
      ],
      "metadata": {
        "id": "EIr2dOZ_ON6T"
      }
    },
    {
      "cell_type": "markdown",
      "source": [
        "**Operations Performed:**\n",
        "1. Creating a Spark session.  \n",
        "2. Creating an RDD from a sample employee dataset.  \n",
        "3. Counting the total number of employees.  \n",
        "4. Collecting and displaying all employee records.  \n",
        "5. Filtering employees with a salary greater than 60000.  \n",
        "6. Mapping to get only employee names.  \n",
        "7. Reducing by key to compute the total salary by department.  \n",
        "8. Extracting distinct departments.  \n",
        "9. Sorting employees by salary in descending order.  \n",
        "10. Counting the number of employees in each department.  \n",
        "11. Finding the maximum salary.  \n",
        "12. Finding the minimum salary.  \n",
        "13. Calculating the average salary.  \n",
        "14. Grouping employees by department.  \n",
        "15. Mapping to create a new structure with employee ID and name pairs.  \n",
        "16. Taking the first two employee records.  \n",
        "17. Sampling employees without replacement.  \n"
      ],
      "metadata": {
        "id": "R_EL9JA3Q3fc"
      }
    },
    {
      "cell_type": "code",
      "execution_count": null,
      "metadata": {
        "id": "QCwJp1BQJFc1"
      },
      "outputs": [],
      "source": [
        "#import necessary libraries\n",
        "from pyspark.sql import SparkSession"
      ]
    },
    {
      "cell_type": "code",
      "source": [
        "# Initialize Spark session\n",
        "spark = SparkSession.builder \\\n",
        "    .appName(\"Employee RDD Operations\") \\\n",
        "    .getOrCreate()"
      ],
      "metadata": {
        "id": "PboA3HKrJge9"
      },
      "execution_count": null,
      "outputs": []
    },
    {
      "cell_type": "code",
      "source": [
        "# Create sample employee data\n",
        "employee_data = [\n",
        "    (1, 'Joe', 70000, 1),\n",
        "    (2, 'Henry', 80000, 2),\n",
        "    (3, 'Sam', 60000, 2),\n",
        "    (4, 'Max', 90000, 1),\n",
        "    (5, 'Anna', 75000, 3),\n",
        "    (6, 'Tom', 50000, 3)\n",
        "]"
      ],
      "metadata": {
        "id": "sG-T-txXJk8i"
      },
      "execution_count": null,
      "outputs": []
    },
    {
      "cell_type": "code",
      "source": [
        "# Create RDD from the employee data\n",
        "employee_rdd = spark.sparkContext.parallelize(employee_data)"
      ],
      "metadata": {
        "id": "NNw1rLFWJnx5"
      },
      "execution_count": null,
      "outputs": []
    },
    {
      "cell_type": "code",
      "source": [
        "# 1. Count total employees\n",
        "total_employees = employee_rdd.count()\n",
        "print(f\"Total Employees: {total_employees}\")"
      ],
      "metadata": {
        "colab": {
          "base_uri": "https://localhost:8080/"
        },
        "id": "8bOy8N3WJrvQ",
        "outputId": "a018cb91-e06f-421a-e767-b81b358d0445"
      },
      "execution_count": null,
      "outputs": [
        {
          "output_type": "stream",
          "name": "stdout",
          "text": [
            "Total Employees: 6\n"
          ]
        }
      ]
    },
    {
      "cell_type": "code",
      "source": [
        "# 2. Collect all employee records\n",
        "all_employees = employee_rdd.collect()\n",
        "print(f\"All Employees: {all_employees}\")"
      ],
      "metadata": {
        "colab": {
          "base_uri": "https://localhost:8080/"
        },
        "id": "K7I-CQxsJuya",
        "outputId": "549330f7-1025-4ad1-c1e3-6cd314f106d3"
      },
      "execution_count": null,
      "outputs": [
        {
          "output_type": "stream",
          "name": "stdout",
          "text": [
            "All Employees: [(1, 'Joe', 70000, 1), (2, 'Henry', 80000, 2), (3, 'Sam', 60000, 2), (4, 'Max', 90000, 1), (5, 'Anna', 75000, 3), (6, 'Tom', 50000, 3)]\n"
          ]
        }
      ]
    },
    {
      "cell_type": "code",
      "source": [
        "# 3. Filter employees with salary greater than 60000\n",
        "high_salary_employees = employee_rdd.filter(lambda x: x[2] > 60000).collect()\n",
        "print(f\"Employees with Salary > 60000: {high_salary_employees}\")"
      ],
      "metadata": {
        "colab": {
          "base_uri": "https://localhost:8080/"
        },
        "id": "2DZgzaBWJynO",
        "outputId": "6f0b4653-803f-4581-eff8-109316508b7b"
      },
      "execution_count": null,
      "outputs": [
        {
          "output_type": "stream",
          "name": "stdout",
          "text": [
            "Employees with Salary > 60000: [(1, 'Joe', 70000, 1), (2, 'Henry', 80000, 2), (4, 'Max', 90000, 1), (5, 'Anna', 75000, 3)]\n"
          ]
        }
      ]
    },
    {
      "cell_type": "code",
      "source": [
        "# 4. Map to get only names of employees\n",
        "employee_names = employee_rdd.map(lambda x: x[1]).collect()\n",
        "print(f\"Employee Names: {employee_names}\")"
      ],
      "metadata": {
        "colab": {
          "base_uri": "https://localhost:8080/"
        },
        "id": "XOdJUKMhJ0oa",
        "outputId": "3cce5412-e3be-4f45-db13-fed24a9ec54e"
      },
      "execution_count": null,
      "outputs": [
        {
          "output_type": "stream",
          "name": "stdout",
          "text": [
            "Employee Names: ['Joe', 'Henry', 'Sam', 'Max', 'Anna', 'Tom']\n"
          ]
        }
      ]
    },
    {
      "cell_type": "code",
      "source": [
        "# 5. Reduce by key to get total salary by department\n",
        "total_salary_by_dept = employee_rdd.map(lambda x: (x[3], x[2])).reduceByKey(lambda a, b: a + b).collect()\n",
        "print(f\"Total Salary by Department: {total_salary_by_dept}\")"
      ],
      "metadata": {
        "colab": {
          "base_uri": "https://localhost:8080/"
        },
        "id": "7iAhGxobJ3Qc",
        "outputId": "0ac474f2-77ee-44bf-a6ac-e9e773ae179b"
      },
      "execution_count": null,
      "outputs": [
        {
          "output_type": "stream",
          "name": "stdout",
          "text": [
            "Total Salary by Department: [(2, 140000), (1, 160000), (3, 125000)]\n"
          ]
        }
      ]
    },
    {
      "cell_type": "code",
      "source": [
        "# 6. Get distinct departments\n",
        "distinct_departments = employee_rdd.map(lambda x: x[3]).distinct().collect()\n",
        "print(f\"Distinct Departments: {distinct_departments}\")"
      ],
      "metadata": {
        "colab": {
          "base_uri": "https://localhost:8080/"
        },
        "id": "WdlGKM7SJ50g",
        "outputId": "7940a639-6293-44ed-d22d-68f255d86a4f"
      },
      "execution_count": null,
      "outputs": [
        {
          "output_type": "stream",
          "name": "stdout",
          "text": [
            "Distinct Departments: [2, 1, 3]\n"
          ]
        }
      ]
    },
    {
      "cell_type": "code",
      "source": [
        "# 7. Sort employees by salary in descending order\n",
        "sorted_employees = employee_rdd.sortBy(lambda x: x[2], ascending=False).collect()\n",
        "print(f\"Employees Sorted by Salary: {sorted_employees}\")"
      ],
      "metadata": {
        "colab": {
          "base_uri": "https://localhost:8080/"
        },
        "id": "SII0wMDNJ8A2",
        "outputId": "9823e9f7-2009-4ed4-9d8b-78e998797235"
      },
      "execution_count": null,
      "outputs": [
        {
          "output_type": "stream",
          "name": "stdout",
          "text": [
            "Employees Sorted by Salary: [(4, 'Max', 90000, 1), (2, 'Henry', 80000, 2), (5, 'Anna', 75000, 3), (1, 'Joe', 70000, 1), (3, 'Sam', 60000, 2), (6, 'Tom', 50000, 3)]\n"
          ]
        }
      ]
    },
    {
      "cell_type": "code",
      "source": [
        "# 8. Count employees in each department\n",
        "employees_per_dept = employee_rdd.map(lambda x: (x[3], 1)).reduceByKey(lambda a, b: a + b).collect()\n",
        "print(f\"Employees Count per Department: {employees_per_dept}\")"
      ],
      "metadata": {
        "colab": {
          "base_uri": "https://localhost:8080/"
        },
        "id": "yIZgMR7RJ-LY",
        "outputId": "eda665d0-f981-4211-ed4a-6ce6c2310ddd"
      },
      "execution_count": null,
      "outputs": [
        {
          "output_type": "stream",
          "name": "stdout",
          "text": [
            "Employees Count per Department: [(2, 2), (1, 2), (3, 2)]\n"
          ]
        }
      ]
    },
    {
      "cell_type": "code",
      "source": [
        "# 9. Find the maximum salary\n",
        "max_salary = employee_rdd.map(lambda x: x[2]).max()\n",
        "print(f\"Maximum Salary: {max_salary}\")"
      ],
      "metadata": {
        "colab": {
          "base_uri": "https://localhost:8080/"
        },
        "id": "NBMUYRC5KAkg",
        "outputId": "513948b8-4237-4191-e3e4-0b47d857e68a"
      },
      "execution_count": null,
      "outputs": [
        {
          "output_type": "stream",
          "name": "stdout",
          "text": [
            "Maximum Salary: 90000\n"
          ]
        }
      ]
    },
    {
      "cell_type": "code",
      "source": [
        "# 10. Find the minimum salary\n",
        "min_salary = employee_rdd.map(lambda x: x[2]).min()\n",
        "print(f\"Minimum Salary: {min_salary}\")"
      ],
      "metadata": {
        "colab": {
          "base_uri": "https://localhost:8080/"
        },
        "id": "n7q7U8oVKC83",
        "outputId": "88a7a7a5-589c-47f4-8ea1-aab9e95022b8"
      },
      "execution_count": null,
      "outputs": [
        {
          "output_type": "stream",
          "name": "stdout",
          "text": [
            "Minimum Salary: 50000\n"
          ]
        }
      ]
    },
    {
      "cell_type": "code",
      "source": [
        "# 11. Calculate average salary\n",
        "average_salary = employee_rdd.map(lambda x: x[2]).mean()\n",
        "print(f\"Average Salary: {average_salary}\")"
      ],
      "metadata": {
        "colab": {
          "base_uri": "https://localhost:8080/"
        },
        "id": "jN3cvWr3KE3N",
        "outputId": "624edc45-32ef-4030-ea35-5ede0916d471"
      },
      "execution_count": null,
      "outputs": [
        {
          "output_type": "stream",
          "name": "stdout",
          "text": [
            "Average Salary: 70833.33333333333\n"
          ]
        }
      ]
    },
    {
      "cell_type": "code",
      "source": [
        "# 12. Group employees by department\n",
        "grouped_by_dept = employee_rdd.map(lambda x: (x[3], x)).groupByKey().mapValues(list).collect()\n",
        "print(f\"Grouped Employees by Department: {grouped_by_dept}\")"
      ],
      "metadata": {
        "colab": {
          "base_uri": "https://localhost:8080/"
        },
        "id": "gcpAHomRKG2T",
        "outputId": "c83c3e92-7fd5-4280-c6aa-7770019ec2f8"
      },
      "execution_count": null,
      "outputs": [
        {
          "output_type": "stream",
          "name": "stdout",
          "text": [
            "Grouped Employees by Department: [(2, [(2, 'Henry', 80000, 2), (3, 'Sam', 60000, 2)]), (1, [(1, 'Joe', 70000, 1), (4, 'Max', 90000, 1)]), (3, [(5, 'Anna', 75000, 3), (6, 'Tom', 50000, 3)])]\n"
          ]
        }
      ]
    },
    {
      "cell_type": "code",
      "source": [
        "# 13. Map to create a new structure with ID and Name only\n",
        "id_name_pairs = employee_rdd.map(lambda x: (x[0], x[1])).collect()\n",
        "print(f\"ID and Name Pairs: {id_name_pairs}\")"
      ],
      "metadata": {
        "colab": {
          "base_uri": "https://localhost:8080/"
        },
        "id": "y9ke8IjJKJNH",
        "outputId": "583bd263-8ac0-4626-dd8f-43bfafde58e9"
      },
      "execution_count": null,
      "outputs": [
        {
          "output_type": "stream",
          "name": "stdout",
          "text": [
            "ID and Name Pairs: [(1, 'Joe'), (2, 'Henry'), (3, 'Sam'), (4, 'Max'), (5, 'Anna'), (6, 'Tom')]\n"
          ]
        }
      ]
    },
    {
      "cell_type": "code",
      "source": [
        "# 14. Take the first two records\n",
        "first_two_employees = employee_rdd.take(2)\n",
        "print(f\"First Two Employees: {first_two_employees}\")\n"
      ],
      "metadata": {
        "colab": {
          "base_uri": "https://localhost:8080/"
        },
        "id": "D8MVVtywKLRa",
        "outputId": "33de282b-88be-4056-9c93-dd58ca958a06"
      },
      "execution_count": null,
      "outputs": [
        {
          "output_type": "stream",
          "name": "stdout",
          "text": [
            "First Two Employees: [(1, 'Joe', 70000, 1), (2, 'Henry', 80000, 2)]\n"
          ]
        }
      ]
    },
    {
      "cell_type": "code",
      "source": [
        "# 15. Sample without replacement\n",
        "sampled_employees = employee_rdd.sample(False, 0.5).collect() # Sample approximately half of the data\n",
        "print(f\"Sampled Employees: {sampled_employees}\")"
      ],
      "metadata": {
        "colab": {
          "base_uri": "https://localhost:8080/"
        },
        "id": "oZ_qmzM_KNDt",
        "outputId": "e25f7cb2-f496-4b90-cad6-cda5fbd11b6a"
      },
      "execution_count": null,
      "outputs": [
        {
          "output_type": "stream",
          "name": "stdout",
          "text": [
            "Sampled Employees: []\n"
          ]
        }
      ]
    },
    {
      "cell_type": "code",
      "source": [
        "\n",
        "# Stop Spark session\n",
        "spark.stop"
      ],
      "metadata": {
        "colab": {
          "base_uri": "https://localhost:8080/",
          "height": 186
        },
        "id": "akWpoVC7KPhi",
        "outputId": "27a495d7-2a33-4574-ccaa-f7e7fdc9a4dc"
      },
      "execution_count": null,
      "outputs": [
        {
          "output_type": "execute_result",
          "data": {
            "text/plain": [
              "<bound method SparkSession.stop of <pyspark.sql.session.SparkSession object at 0x7ba2cca06260>>"
            ],
            "text/html": [
              "<div style=\"max-width:800px; border: 1px solid var(--colab-border-color);\"><style>\n",
              "      pre.function-repr-contents {\n",
              "        overflow-x: auto;\n",
              "        padding: 8px 12px;\n",
              "        max-height: 500px;\n",
              "      }\n",
              "\n",
              "      pre.function-repr-contents.function-repr-contents-collapsed {\n",
              "        cursor: pointer;\n",
              "        max-height: 100px;\n",
              "      }\n",
              "    </style>\n",
              "    <pre style=\"white-space: initial; background:\n",
              "         var(--colab-secondary-surface-color); padding: 8px 12px;\n",
              "         border-bottom: 1px solid var(--colab-border-color);\"><b>pyspark.sql.session.SparkSession.stop</b><br/>def stop() -&gt; None</pre><pre class=\"function-repr-contents function-repr-contents-collapsed\" style=\"\"><a class=\"filepath\" style=\"display:none\" href=\"#\">/usr/local/lib/python3.10/dist-packages/pyspark/sql/session.py</a>Stop the underlying :class:`SparkContext`.\n",
              "\n",
              ".. versionadded:: 2.0.0\n",
              "\n",
              ".. versionchanged:: 3.4.0\n",
              "    Supports Spark Connect.\n",
              "\n",
              "Examples\n",
              "--------\n",
              "&gt;&gt;&gt; spark.stop()  # doctest: +SKIP</pre>\n",
              "      <script>\n",
              "      if (google.colab.kernel.accessAllowed && google.colab.files && google.colab.files.view) {\n",
              "        for (const element of document.querySelectorAll('.filepath')) {\n",
              "          element.style.display = 'block'\n",
              "          element.onclick = (event) => {\n",
              "            event.preventDefault();\n",
              "            event.stopPropagation();\n",
              "            google.colab.files.view(element.textContent, 1781);\n",
              "          };\n",
              "        }\n",
              "      }\n",
              "      for (const element of document.querySelectorAll('.function-repr-contents')) {\n",
              "        element.onclick = (event) => {\n",
              "          event.preventDefault();\n",
              "          event.stopPropagation();\n",
              "          element.classList.toggle('function-repr-contents-collapsed');\n",
              "        };\n",
              "      }\n",
              "      </script>\n",
              "      </div>"
            ]
          },
          "metadata": {},
          "execution_count": 20
        }
      ]
    },
    {
      "cell_type": "markdown",
      "source": [
        "**Record:**Performed various rdd operations on"
      ],
      "metadata": {
        "id": "gEbKznhapYTP"
      }
    }
  ]
}