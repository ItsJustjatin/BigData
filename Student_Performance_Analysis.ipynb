{
  "nbformat": 4,
  "nbformat_minor": 0,
  "metadata": {
    "colab": {
      "provenance": []
    },
    "kernelspec": {
      "name": "python3",
      "display_name": "Python 3"
    },
    "language_info": {
      "name": "python"
    }
  },
  "cells": [
    {
      "cell_type": "code",
      "execution_count": null,
      "metadata": {
        "id": "Enz__O0-oal6"
      },
      "outputs": [],
      "source": [
        "from pyspark.sql import SparkSession\n",
        "from pyspark.sql.functions import col, countDistinct, min, sum, desc"
      ]
    },
    {
      "cell_type": "code",
      "source": [
        "# Step 1: Initialize SparkSession\n",
        "spark = SparkSession.builder \\\n",
        "    .appName(\"Student Performance Analysis\") \\\n",
        "    .getOrCreate()"
      ],
      "metadata": {
        "id": "MRkZ5ilhokSq"
      },
      "execution_count": null,
      "outputs": []
    },
    {
      "cell_type": "code",
      "source": [
        "# Step 2: Load the dataset\n",
        "file_path = \"/content/Student_Marks.csv\"\n",
        "data = spark.read.csv(file_path, header=True, inferSchema=True)"
      ],
      "metadata": {
        "id": "mmTDfVjnonp-"
      },
      "execution_count": null,
      "outputs": []
    },
    {
      "cell_type": "code",
      "source": [
        "# Step 3: Display the schema\n",
        "print(\"Schema:\")\n",
        "data.printSchema()"
      ],
      "metadata": {
        "colab": {
          "base_uri": "https://localhost:8080/"
        },
        "id": "sb3RZ795oqO6",
        "outputId": "afb6b7da-08fe-4602-9f72-fd5f46aa26a1"
      },
      "execution_count": null,
      "outputs": [
        {
          "output_type": "stream",
          "name": "stdout",
          "text": [
            "Schema:\n",
            "root\n",
            " |-- number_courses: integer (nullable = true)\n",
            " |-- time_study: double (nullable = true)\n",
            " |-- Marks: double (nullable = true)\n",
            "\n"
          ]
        }
      ]
    },
    {
      "cell_type": "code",
      "source": [
        "# Step 4: Display the first five rows\n",
        "print(\"First five rows:\")\n",
        "data.show(5)"
      ],
      "metadata": {
        "colab": {
          "base_uri": "https://localhost:8080/"
        },
        "id": "PkU9UeiyotRr",
        "outputId": "a285b41d-968b-4835-d861-10bfa8c3481d"
      },
      "execution_count": null,
      "outputs": [
        {
          "output_type": "stream",
          "name": "stdout",
          "text": [
            "First five rows:\n",
            "+--------------+----------+------+\n",
            "|number_courses|time_study| Marks|\n",
            "+--------------+----------+------+\n",
            "|             3|     4.508|19.202|\n",
            "|             4|     0.096| 7.734|\n",
            "|             4|     3.133|13.811|\n",
            "|             6|     7.909|53.018|\n",
            "|             8|     7.811|55.299|\n",
            "+--------------+----------+------+\n",
            "only showing top 5 rows\n",
            "\n"
          ]
        }
      ]
    },
    {
      "cell_type": "code",
      "source": [
        "# Step 5: Perform data analysis using Spark SQL\n",
        "\n",
        "# Register the DataFrame as a temporary view\n",
        "data.createOrReplaceTempView(\"student_marks\")\n",
        "\n",
        "# Calculate the total number of students\n",
        "total_students = spark.sql(\"SELECT COUNT(*) AS TotalStudents FROM student_marks\")\n",
        "total_students.show()"
      ],
      "metadata": {
        "colab": {
          "base_uri": "https://localhost:8080/"
        },
        "id": "5d-Y5Pe8tIbe",
        "outputId": "318eeab8-7904-4727-9e4d-8e1b2b9b1bc5"
      },
      "execution_count": null,
      "outputs": [
        {
          "output_type": "stream",
          "name": "stdout",
          "text": [
            "+-------------+\n",
            "|TotalStudents|\n",
            "+-------------+\n",
            "|          100|\n",
            "+-------------+\n",
            "\n"
          ]
        }
      ]
    },
    {
      "cell_type": "code",
      "source": [
        "# Find the average marks for each subject\n",
        "average_marks_subject = spark.sql(\"\"\"\n",
        "    SELECT number_courses, AVG(Marks) AS AverageMarks\n",
        "    FROM student_marks\n",
        "    GROUP BY number_courses\n",
        "\"\"\")\n",
        "average_marks_subject.show()"
      ],
      "metadata": {
        "colab": {
          "base_uri": "https://localhost:8080/"
        },
        "id": "xMPBFvu8tPIY",
        "outputId": "9463d5ca-4d4d-4c84-ed63-952ead3ec746"
      },
      "execution_count": null,
      "outputs": [
        {
          "output_type": "stream",
          "name": "stdout",
          "text": [
            "+--------------+------------------+\n",
            "|number_courses|      AverageMarks|\n",
            "+--------------+------------------+\n",
            "|             6|29.863062499999998|\n",
            "|             3|18.433318181818183|\n",
            "|             5|17.641000000000002|\n",
            "|             4| 19.02995238095238|\n",
            "|             8|33.835375000000006|\n",
            "|             7|29.401466666666668|\n",
            "+--------------+------------------+\n",
            "\n"
          ]
        }
      ]
    },
    {
      "cell_type": "code",
      "source": [
        "# Find the minimum and maximum marks for each subject\n",
        "# **Change:** Replace 'Subject' with an existing column like 'number_courses'\n",
        "min_max_marks = spark.sql(\"\"\"\n",
        "    SELECT number_courses, MIN(Marks) AS MinMarks, MAX(Marks) AS MaxMarks  -- Changed 'Subject' to 'number_courses'\n",
        "    FROM student_marks\n",
        "    GROUP BY number_courses  -- Changed 'Subject' to 'number_courses'\n",
        "\"\"\")\n",
        "min_max_marks.show()"
      ],
      "metadata": {
        "colab": {
          "base_uri": "https://localhost:8080/"
        },
        "id": "MOjHRoVettaH",
        "outputId": "fe829be7-1117-4c1f-ff94-00541ae1898c"
      },
      "execution_count": null,
      "outputs": [
        {
          "output_type": "stream",
          "name": "stdout",
          "text": [
            "+--------------+--------+--------+\n",
            "|number_courses|MinMarks|MaxMarks|\n",
            "+--------------+--------+--------+\n",
            "|             6|  10.522|  53.018|\n",
            "|             3|   5.609|  43.978|\n",
            "|             5|   9.333|  36.746|\n",
            "|             4|   7.336|  44.099|\n",
            "|             8|  15.038|  55.299|\n",
            "|             7|  12.027|  54.321|\n",
            "+--------------+--------+--------+\n",
            "\n"
          ]
        }
      ]
    },
    {
      "cell_type": "code",
      "source": [
        "# Calculate the total number of students per course\n",
        "students_per_course = spark.sql(\"\"\"\n",
        "    SELECT number_courses, COUNT(*) AS TotalStudents\n",
        "    FROM student_marks\n",
        "    GROUP BY number_courses\n",
        "\"\"\")\n",
        "students_per_course.show()"
      ],
      "metadata": {
        "colab": {
          "base_uri": "https://localhost:8080/"
        },
        "id": "eBhLhGpbu9h4",
        "outputId": "d90000d3-73e7-40f6-8548-b57b8601e1db"
      },
      "execution_count": null,
      "outputs": [
        {
          "output_type": "stream",
          "name": "stdout",
          "text": [
            "+--------------+-------------+\n",
            "|number_courses|TotalStudents|\n",
            "+--------------+-------------+\n",
            "|             6|           16|\n",
            "|             3|           22|\n",
            "|             5|           10|\n",
            "|             4|           21|\n",
            "|             8|           16|\n",
            "|             7|           15|\n",
            "+--------------+-------------+\n",
            "\n"
          ]
        }
      ]
    }
  ]
}