{
  "nbformat": 4,
  "nbformat_minor": 0,
  "metadata": {
    "colab": {
      "provenance": []
    },
    "kernelspec": {
      "name": "python3",
      "display_name": "Python 3"
    },
    "language_info": {
      "name": "python"
    }
  },
  "cells": [
    {
      "cell_type": "markdown",
      "source": [
        "**AIM**: To analyze a student dataset by utilizing PySpark DataFrame operations for data transformation, aggregation, and statistical analysis, showcasing the capabilities of Spark in handling structured data efficiently."
      ],
      "metadata": {
        "id": "wWvc1grQPVOb"
      }
    },
    {
      "cell_type": "markdown",
      "source": [
        "Operations Performed:  \n",
        "1. Loading a CSV file into a PySpark DataFrame.  \n",
        "2. Displaying the schema and first few rows of the dataset.  \n",
        "3. Adding a new column to compute average marks for each student.  \n",
        "4. Grouping data by country to:  \n",
        "   - Calculate the highest average marks by country.  \n",
        "   - Count the number of students per country.  \n",
        "   - Find the earliest enrollment date for each country.  \n",
        "5. Sorting results based on specific columns (e.g., average marks, enrollment date).  "
      ],
      "metadata": {
        "id": "cmt3q0QAQnjD"
      }
    },
    {
      "cell_type": "code",
      "execution_count": null,
      "metadata": {
        "id": "ZMw3i5C4Knx_"
      },
      "outputs": [],
      "source": [
        "import pandas as pd\n",
        "from pyspark.sql import SparkSession\n",
        "from pyspark.sql.functions import col, count, avg, min, desc"
      ]
    },
    {
      "cell_type": "code",
      "source": [
        "# Step 1: Create a sample student dataset\n",
        "student_data = {\n",
        "    \"Student ID\": [101, 102, 103, 104, 105],\n",
        "    \"Name\": [\"Alice\", \"Bob\", \"Charlie\", \"David\", \"Eve\"],\n",
        "    \"Gender\": [\"F\", \"M\", \"M\", \"M\", \"F\"],\n",
        "    \"Math Marks\": [85, 90, 78, 88, 92],\n",
        "    \"Science Marks\": [89, 85, 91, 84, 87],\n",
        "    \"English Marks\": [90, 88, 86, 85, 89],\n",
        "    \"Enrollment Date\": [\"2021-06-15\", \"2021-07-20\", \"2021-06-18\", \"2021-07-25\", \"2021-06-10\"],\n",
        "    \"Country\": [\"USA\", \"Canada\", \"USA\", \"Germany\", \"Canada\"]\n",
        "}"
      ],
      "metadata": {
        "id": "XdfLvvoyLVOL"
      },
      "execution_count": null,
      "outputs": []
    },
    {
      "cell_type": "code",
      "source": [
        "# Create a DataFrame and save it to a CSV file\n",
        "student_df = pd.DataFrame(student_data)\n",
        "student_file_path = \"/content/student_dataset.csv\"\n",
        "student_df.to_csv(student_file_path, index=False)\n",
        "\n",
        "print(f\"Student CSV file created at: {student_file_path}\")"
      ],
      "metadata": {
        "colab": {
          "base_uri": "https://localhost:8080/"
        },
        "id": "kSJokBsKLXKN",
        "outputId": "9b3c3ae9-0cf1-4503-c70b-9aabf2bc6d15"
      },
      "execution_count": null,
      "outputs": [
        {
          "output_type": "stream",
          "name": "stdout",
          "text": [
            "Student CSV file created at: /content/student_dataset.csv\n"
          ]
        }
      ]
    },
    {
      "cell_type": "code",
      "source": [
        "\n",
        "# Step 2: Initialize SparkSession\n",
        "spark = SparkSession.builder \\\n",
        "    .appName(\"Student Dataset Analysis\") \\\n",
        "    .getOrCreate()"
      ],
      "metadata": {
        "id": "lS5wh1pRL4VM"
      },
      "execution_count": null,
      "outputs": []
    },
    {
      "cell_type": "code",
      "source": [
        "# Step 3: Load the dataset\n",
        "data = spark.read.csv(student_file_path, header=True, inferSchema=True)"
      ],
      "metadata": {
        "id": "Pov_HflfL9mN"
      },
      "execution_count": null,
      "outputs": []
    },
    {
      "cell_type": "code",
      "source": [
        "# Step 4: Display the schema\n",
        "print(\"Schema:\")\n",
        "data.printSchema()"
      ],
      "metadata": {
        "colab": {
          "base_uri": "https://localhost:8080/"
        },
        "id": "om0wpqamL_qu",
        "outputId": "eb0112ed-1e01-4aeb-907c-f9228c17779d"
      },
      "execution_count": null,
      "outputs": [
        {
          "output_type": "stream",
          "name": "stdout",
          "text": [
            "Schema:\n",
            "root\n",
            " |-- Student ID: integer (nullable = true)\n",
            " |-- Name: string (nullable = true)\n",
            " |-- Gender: string (nullable = true)\n",
            " |-- Math Marks: integer (nullable = true)\n",
            " |-- Science Marks: integer (nullable = true)\n",
            " |-- English Marks: integer (nullable = true)\n",
            " |-- Enrollment Date: date (nullable = true)\n",
            " |-- Country: string (nullable = true)\n",
            "\n"
          ]
        }
      ]
    },
    {
      "cell_type": "code",
      "source": [
        "# Step 5: Display the first five rows\n",
        "print(\"First five rows:\")\n",
        "data.show(5)"
      ],
      "metadata": {
        "colab": {
          "base_uri": "https://localhost:8080/"
        },
        "id": "nmCvShfqMB58",
        "outputId": "6a2ea355-6df9-4198-b61d-c3deb9fa246f"
      },
      "execution_count": null,
      "outputs": [
        {
          "output_type": "stream",
          "name": "stdout",
          "text": [
            "First five rows:\n",
            "+----------+-------+------+----------+-------------+-------------+---------------+-------+\n",
            "|Student ID|   Name|Gender|Math Marks|Science Marks|English Marks|Enrollment Date|Country|\n",
            "+----------+-------+------+----------+-------------+-------------+---------------+-------+\n",
            "|       101|  Alice|     F|        85|           89|           90|     2021-06-15|    USA|\n",
            "|       102|    Bob|     M|        90|           85|           88|     2021-07-20| Canada|\n",
            "|       103|Charlie|     M|        78|           91|           86|     2021-06-18|    USA|\n",
            "|       104|  David|     M|        88|           84|           85|     2021-07-25|Germany|\n",
            "|       105|    Eve|     F|        92|           87|           89|     2021-06-10| Canada|\n",
            "+----------+-------+------+----------+-------------+-------------+---------------+-------+\n",
            "\n"
          ]
        }
      ]
    },
    {
      "cell_type": "code",
      "source": [
        "# Step 6: Country with the highest average marks\n",
        "data = data.withColumn(\n",
        "    \"Average Marks\",\n",
        "    (col(\"Math Marks\") + col(\"Science Marks\") + col(\"English Marks\")) / 3\n",
        ")\n",
        "\n",
        "highest_avg_country = (\n",
        "    data.groupBy(\"Country\")\n",
        "    .agg(avg(\"Average Marks\").alias(\"Average_Marks\"))\n",
        "    .orderBy(desc(\"Average_Marks\"))\n",
        "    .limit(1)\n",
        ")\n",
        "print(\"Country with the highest average marks:\")\n",
        "highest_avg_country.show()"
      ],
      "metadata": {
        "colab": {
          "base_uri": "https://localhost:8080/"
        },
        "id": "aWRzhcS5MEjv",
        "outputId": "401bdecc-8be3-4aa0-8e96-0789a9f466e6"
      },
      "execution_count": null,
      "outputs": [
        {
          "output_type": "stream",
          "name": "stdout",
          "text": [
            "Country with the highest average marks:\n",
            "+-------+-------------+\n",
            "|Country|Average_Marks|\n",
            "+-------+-------------+\n",
            "| Canada|         88.5|\n",
            "+-------+-------------+\n",
            "\n"
          ]
        }
      ]
    },
    {
      "cell_type": "code",
      "source": [
        "# Step 7: Number of students from each country\n",
        "students_per_country = (\n",
        "    data.groupBy(\"Country\")\n",
        "    .agg(count(\"Student ID\").alias(\"Number_of_Students\"))\n",
        "    .orderBy(desc(\"Number_of_Students\"))\n",
        ")\n",
        "print(\"Number of students from each country:\")\n",
        "students_per_country.show()"
      ],
      "metadata": {
        "colab": {
          "base_uri": "https://localhost:8080/"
        },
        "id": "zyUPreoiMHGu",
        "outputId": "1a3ace0d-846b-4c67-fddb-6b6ac557d719"
      },
      "execution_count": null,
      "outputs": [
        {
          "output_type": "stream",
          "name": "stdout",
          "text": [
            "Number of students from each country:\n",
            "+-------+------------------+\n",
            "|Country|Number_of_Students|\n",
            "+-------+------------------+\n",
            "|    USA|                 2|\n",
            "| Canada|                 2|\n",
            "|Germany|                 1|\n",
            "+-------+------------------+\n",
            "\n"
          ]
        }
      ]
    },
    {
      "cell_type": "code",
      "source": [
        "# Step 8: Earliest enrollment date for students from each country\n",
        "earliest_enrollment = (\n",
        "    data.groupBy(\"Country\")\n",
        "    .agg(min(\"Enrollment Date\").alias(\"Earliest_Enrollment\"))\n",
        "    .orderBy(\"Earliest_Enrollment\")\n",
        ")\n",
        "print(\"Earliest enrollment date for students from each country:\")\n",
        "earliest_enrollment.show()"
      ],
      "metadata": {
        "colab": {
          "base_uri": "https://localhost:8080/"
        },
        "id": "AOVVz7P1MJQz",
        "outputId": "77525167-2ccb-4dc1-f27e-ef8dc366c159"
      },
      "execution_count": null,
      "outputs": [
        {
          "output_type": "stream",
          "name": "stdout",
          "text": [
            "Earliest enrollment date for students from each country:\n",
            "+-------+-------------------+\n",
            "|Country|Earliest_Enrollment|\n",
            "+-------+-------------------+\n",
            "| Canada|         2021-06-10|\n",
            "|    USA|         2021-06-15|\n",
            "|Germany|         2021-07-25|\n",
            "+-------+-------------------+\n",
            "\n"
          ]
        }
      ]
    },
    {
      "cell_type": "markdown",
      "source": [
        "**Result:** Performed spark PySpark DataFrame operations for data transformation, aggregation, and statistical analysis on student dataset."
      ],
      "metadata": {
        "id": "N52ZVCInoLhu"
      }
    }
  ]
}