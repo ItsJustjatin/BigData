{
  "nbformat": 4,
  "nbformat_minor": 0,
  "metadata": {
    "colab": {
      "provenance": []
    },
    "kernelspec": {
      "name": "python3",
      "display_name": "Python 3"
    },
    "language_info": {
      "name": "python"
    }
  },
  "cells": [
    {
      "cell_type": "markdown",
      "source": [
        "**AIM:**The aim of this code is to analyze an e-commerce dataset using Apache Spark SQL.\n",
        "\n",
        "Data Analysis Using Spark SQL:\n",
        "\n",
        "1. Load the dataset into Spark and understand its schema and structure.\n",
        "\n",
        "2. Perform analytical operations on the dataset to derive insights:\n",
        "*   Identify the country with the highest total purchase.\n",
        "*   Calculate the number of unique customers from each country.\n",
        "*   Determine the earliest purchase date for each customer.\n",
        "3.  Display the results in a structured format."
      ],
      "metadata": {
        "id": "R9VA3UWoopnI"
      }
    },
    {
      "cell_type": "code",
      "execution_count": null,
      "metadata": {
        "id": "B3idJkzFGqCp"
      },
      "outputs": [],
      "source": [
        "from pyspark.sql import SparkSession\n",
        "from pyspark.sql.functions import col, countDistinct, min, sum, desc"
      ]
    },
    {
      "cell_type": "markdown",
      "source": [
        "Step 1: Initialize SparkSession\n",
        "\n",
        "The SparkSession initializes the Spark environment, allowing us to use Spark SQL for data analysis"
      ],
      "metadata": {
        "id": "8FQb3cmnqHua"
      }
    },
    {
      "cell_type": "code",
      "source": [
        "# Step 1: Initialize SparkSession\n",
        "spark = SparkSession.builder \\\n",
        "    .appName(\"Ecommerce Analysis\") \\\n",
        "    .getOrCreate()"
      ],
      "metadata": {
        "id": "MN5fxjWGnocj"
      },
      "execution_count": null,
      "outputs": []
    },
    {
      "cell_type": "markdown",
      "source": [
        "Step 2: Load the Dataset\n",
        "\n",
        "*   The CSV file is loaded into Spark as a DataFrame.\n",
        "*   header=True ensures that the first row is treated as column names.\n",
        "*   inferSchema=True automatically detects the data types of each column.\n"
      ],
      "metadata": {
        "id": "cRkV8-osqTjd"
      }
    },
    {
      "cell_type": "code",
      "source": [
        "# Step 2: Load the dataset\n",
        "file_path = \"/content/ecommerce_sample.csv\"  # Replace with the actual dataset path\n",
        "data = spark.read.csv(file_path, header=True, inferSchema=True)"
      ],
      "metadata": {
        "id": "vW-BkxBcnsQn"
      },
      "execution_count": null,
      "outputs": []
    },
    {
      "cell_type": "markdown",
      "source": [
        "Step 3: Display Schema\n",
        "\n",
        "Displays the structure of the DataFrame, showing column names, data types, and nullability."
      ],
      "metadata": {
        "id": "VwrvndeFqiiL"
      }
    },
    {
      "cell_type": "code",
      "source": [
        "# Step 3: Display the schema\n",
        "print(\"Schema:\")\n",
        "data.printSchema()"
      ],
      "metadata": {
        "colab": {
          "base_uri": "https://localhost:8080/"
        },
        "id": "zBKAG3ben1vm",
        "outputId": "b4513165-0a12-4df3-fb8d-3a6c2a2bb8e1"
      },
      "execution_count": null,
      "outputs": [
        {
          "output_type": "stream",
          "name": "stdout",
          "text": [
            "Schema:\n",
            "root\n",
            " |-- Invoice No.: integer (nullable = true)\n",
            " |-- Invoice Date: string (nullable = true)\n",
            " |-- Customer-ID: integer (nullable = true)\n",
            " |-- Unit Price: double (nullable = true)\n",
            " |-- Quantity: integer (nullable = true)\n",
            " |-- Country: string (nullable = true)\n",
            "\n"
          ]
        }
      ]
    },
    {
      "cell_type": "markdown",
      "source": [
        "Step 4: Display First Five Rows"
      ],
      "metadata": {
        "id": "SMTKQnSZqsnl"
      }
    },
    {
      "cell_type": "code",
      "source": [
        "# Step 4: Display the first five rows\n",
        "print(\"First five rows:\")\n",
        "data.show(5)"
      ],
      "metadata": {
        "colab": {
          "base_uri": "https://localhost:8080/"
        },
        "id": "hF24HNMbn6wb",
        "outputId": "1a2c81e4-a74f-4851-c64b-38f8dd6e34fd"
      },
      "execution_count": null,
      "outputs": [
        {
          "output_type": "stream",
          "name": "stdout",
          "text": [
            "First five rows:\n",
            "+-----------+------------+-----------+----------+--------+---------+\n",
            "|Invoice No.|Invoice Date|Customer-ID|Unit Price|Quantity|  Country|\n",
            "+-----------+------------+-----------+----------+--------+---------+\n",
            "|     536365|   12/1/2021|      17850|      2.55|       6|Australia|\n",
            "|     536366|   12/1/2021|      17850|      3.39|      10|Australia|\n",
            "|     536367|   12/1/2021|      13047|      2.75|      32|      USA|\n",
            "|     536368|   12/1/2021|      12583|      4.25|      50|   Canada|\n",
            "|     536369|   12/1/2021|      13047|      1.99|      24|  Germany|\n",
            "+-----------+------------+-----------+----------+--------+---------+\n",
            "\n"
          ]
        }
      ]
    },
    {
      "cell_type": "markdown",
      "source": [
        "Step 5: Calculate Total Purchase per Country\n",
        "\n",
        "*  Create a new column, Total_Purchase, as the product of Unit Price and Quantity.\n",
        "*  Use groupBy and sum to calculate the total purchases for each country.\n",
        "*  Sort the results in descending order to find the country with the highest total purchase.\n",
        "*  Display the result."
      ],
      "metadata": {
        "id": "wQ90d41uq1hT"
      }
    },
    {
      "cell_type": "code",
      "source": [
        "# Step 5: Country with the highest purchase\n",
        "# Assuming \"Unit Price\" * \"Quantity\" gives the total purchase value\n",
        "data = data.withColumn(\"Total_Purchase\", col(\"Unit Price\") * col(\"Quantity\"))\n",
        "\n",
        "highest_purchase_country = (\n",
        "    data.groupBy(\"Country\")\n",
        "    .agg(sum(\"Total_Purchase\").alias(\"Total_Purchase\"))\n",
        "    .orderBy(desc(\"Total_Purchase\"))\n",
        "    .limit(1)\n",
        ")\n",
        "print(\"Country with the highest purchase:\")\n",
        "highest_purchase_country.show()"
      ],
      "metadata": {
        "colab": {
          "base_uri": "https://localhost:8080/"
        },
        "id": "z3OFmsH5oDQJ",
        "outputId": "94ef527a-0159-43b9-84fb-96d532cb4cd5"
      },
      "execution_count": null,
      "outputs": [
        {
          "output_type": "stream",
          "name": "stdout",
          "text": [
            "Country with the highest purchase:\n",
            "+-------+--------------+\n",
            "|Country|Total_Purchase|\n",
            "+-------+--------------+\n",
            "| Canada|         212.5|\n",
            "+-------+--------------+\n",
            "\n"
          ]
        }
      ]
    },
    {
      "cell_type": "markdown",
      "source": [
        "Step 6: Count Customers from Each Country\n",
        "\n",
        "*  Group the data by Country.\n",
        "*  Use countDistinct to calculate the number of unique customers in each country.\n",
        "*  Sort the result in descending order to see countries with the most customers.\n",
        "\n"
      ],
      "metadata": {
        "id": "hqdu3EgOrBfI"
      }
    },
    {
      "cell_type": "code",
      "source": [
        "# Step 6: Number of customers from each country\n",
        "customers_per_country = (\n",
        "    data.groupBy(\"Country\")\n",
        "    .agg(countDistinct(\"Customer-ID\").alias(\"Number_of_Customers\"))\n",
        "    .orderBy(desc(\"Number_of_Customers\"))\n",
        ")\n",
        "print(\"Number of customers from each country:\")\n",
        "customers_per_country.show()"
      ],
      "metadata": {
        "colab": {
          "base_uri": "https://localhost:8080/"
        },
        "id": "P0SYvLfMoIQb",
        "outputId": "14ae66a9-57c7-4eb3-efc6-ff693dec7ccc"
      },
      "execution_count": null,
      "outputs": [
        {
          "output_type": "stream",
          "name": "stdout",
          "text": [
            "Number of customers from each country:\n",
            "+---------+-------------------+\n",
            "|  Country|Number_of_Customers|\n",
            "+---------+-------------------+\n",
            "|  Germany|                  1|\n",
            "|      USA|                  1|\n",
            "|   Canada|                  1|\n",
            "|Australia|                  1|\n",
            "+---------+-------------------+\n",
            "\n"
          ]
        }
      ]
    },
    {
      "cell_type": "markdown",
      "source": [
        "Step 7: Find Earliest Purchase per Customer\n",
        "\n",
        "*  Group the data by Customer-ID.\n",
        "*  Use the min function to find the earliest purchase date for each customer.\n",
        "*  Display the result in ascending order by purchase date."
      ],
      "metadata": {
        "id": "I8z2proIrRvh"
      }
    },
    {
      "cell_type": "code",
      "source": [
        "# Step 7: Earliest purchase made by customer\n",
        "earliest_purchase = (\n",
        "    data.groupBy(\"Customer-ID\")\n",
        "    .agg(min(\"Invoice Date\").alias(\"Earliest_Purchase\"))\n",
        "    .orderBy(\"Earliest_Purchase\")\n",
        ")\n",
        "print(\"Earliest purchase made by customers:\")\n",
        "earliest_purchase.show(5)  # Display first five records for brevity"
      ],
      "metadata": {
        "colab": {
          "base_uri": "https://localhost:8080/"
        },
        "id": "Vh1CH86MoN5H",
        "outputId": "81c3ddb5-d44c-46d7-88d5-4b4701667d43"
      },
      "execution_count": null,
      "outputs": [
        {
          "output_type": "stream",
          "name": "stdout",
          "text": [
            "Earliest purchase made by customers:\n",
            "+-----------+-----------------+\n",
            "|Customer-ID|Earliest_Purchase|\n",
            "+-----------+-----------------+\n",
            "|      12583|        12/1/2021|\n",
            "|      13047|        12/1/2021|\n",
            "|      17850|        12/1/2021|\n",
            "+-----------+-----------------+\n",
            "\n"
          ]
        }
      ]
    },
    {
      "cell_type": "markdown",
      "source": [
        "**RESULT:**\n",
        "Demonstrate how to preprocess, load, and analyze structured data using Spark SQL.\n",
        "Showcase the use of Spark's powerful aggregation, filtering, and grouping capabilities for large-scale data analysis."
      ],
      "metadata": {
        "id": "aKiiQHVKrlNV"
      }
    }
  ]
}