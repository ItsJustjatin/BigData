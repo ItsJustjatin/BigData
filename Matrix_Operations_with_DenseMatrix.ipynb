{
  "nbformat": 4,
  "nbformat_minor": 0,
  "metadata": {
    "colab": {
      "provenance": []
    },
    "kernelspec": {
      "name": "python3",
      "display_name": "Python 3"
    },
    "language_info": {
      "name": "python"
    }
  },
  "cells": [
    {
      "cell_type": "code",
      "execution_count": null,
      "metadata": {
        "id": "dkOBOfZqr87i"
      },
      "outputs": [],
      "source": [
        "from pyspark.sql import SparkSession\n",
        "from pyspark.ml.linalg import DenseMatrix"
      ]
    },
    {
      "cell_type": "code",
      "source": [
        "# Step 1: Initialize SparkSession\n",
        "spark = SparkSession.builder \\\n",
        "    .appName(\"Matrix Operations with DenseMatrix\") \\\n",
        "    .getOrCreate()"
      ],
      "metadata": {
        "id": "kuxh6xh70HnC"
      },
      "execution_count": null,
      "outputs": []
    },
    {
      "cell_type": "code",
      "source": [
        "# Step 2: Define Dense Matrices\n",
        "matrix_a = DenseMatrix(3, 3, [8, 2, 8, 4, 2, 6, 7, 1, 9])  # 3x3 matrix in column-major order\n",
        "matrix_b = DenseMatrix(3, 3, [8, 8, 1, 6, 8, 4, 6, 4, 1])  # 3x3 matrix in column-major order"
      ],
      "metadata": {
        "id": "lsRqg-GK0KVg"
      },
      "execution_count": null,
      "outputs": []
    },
    {
      "cell_type": "code",
      "source": [
        "# Step 3: Matrix Addition\n",
        "def add_matrices(m1, m2):\n",
        "    return DenseMatrix(m1.numRows, m1.numCols, [a + b for a, b in zip(m1.values, m2.values)])\n",
        "\n",
        "result_add = add_matrices(matrix_a, matrix_b)\n",
        "print(\"Matrix Addition Result:\")\n",
        "print(result_add.toArray())\n"
      ],
      "metadata": {
        "colab": {
          "base_uri": "https://localhost:8080/"
        },
        "id": "5phhf5pY0OPN",
        "outputId": "efe1ac8c-8bbc-454c-fb51-3c0128efc8d7"
      },
      "execution_count": null,
      "outputs": [
        {
          "output_type": "stream",
          "name": "stdout",
          "text": [
            "Matrix Addition Result:\n",
            "[[16. 10. 13.]\n",
            " [10. 10.  5.]\n",
            " [ 9. 10. 10.]]\n"
          ]
        }
      ]
    },
    {
      "cell_type": "code",
      "source": [
        "# Step 4: Matrix Subtraction\n",
        "def subtract_matrices(m1, m2):\n",
        "    return DenseMatrix(m1.numRows, m1.numCols, [a - b for a, b in zip(m1.values, m2.values)])\n",
        "\n",
        "result_sub = subtract_matrices(matrix_a, matrix_b)\n",
        "print(\"\\nMatrix Subtraction Result:\")\n",
        "print(result_sub.toArray())"
      ],
      "metadata": {
        "colab": {
          "base_uri": "https://localhost:8080/"
        },
        "id": "2Cgyuf060U5S",
        "outputId": "4fbcfce7-9ed5-4299-e489-3caacd2f0a9f"
      },
      "execution_count": null,
      "outputs": [
        {
          "output_type": "stream",
          "name": "stdout",
          "text": [
            "\n",
            "Matrix Subtraction Result:\n",
            "[[ 0. -2.  1.]\n",
            " [-6. -6. -3.]\n",
            " [ 7.  2.  8.]]\n"
          ]
        }
      ]
    },
    {
      "cell_type": "code",
      "source": [
        "# Step 5: Matrix Multiplication\n",
        "def multiply_matrices(m1, m2):\n",
        "    from pyspark.ml.linalg import Matrices, DenseMatrix\n",
        "\n",
        "    # Create a list to store the result values\n",
        "    result_values = [0.0] * (m1.numRows * m2.numCols)\n",
        "\n",
        "    for i in range(m1.numRows):\n",
        "        for j in range(m2.numCols):\n",
        "            sum_val = 0.0\n",
        "            for k in range(m1.numCols):\n",
        "                sum_val += m1[i, k] * m2[k, j]\n",
        "            # Calculate the index for result_values\n",
        "            index = i * m2.numCols + j\n",
        "            result_values[index] = sum_val # Assign the sum_val to the correct position in result_values\n",
        "\n",
        "    # Create a new DenseMatrix from the result_values\n",
        "    result = Matrices.dense(m1.numRows, m2.numCols, result_values)\n",
        "    return result\n",
        "\n",
        "result_mul = multiply_matrices(matrix_a, matrix_b)\n",
        "print(\"\\nMatrix Multiplication Result:\")\n",
        "print(result_mul.toArray())"
      ],
      "metadata": {
        "colab": {
          "base_uri": "https://localhost:8080/"
        },
        "id": "tgNn7bZI0Znp",
        "outputId": "0dd12c9b-dec1-4142-b9a0-b679ea460e40"
      },
      "execution_count": null,
      "outputs": [
        {
          "output_type": "stream",
          "name": "stdout",
          "text": [
            "\n",
            "Matrix Multiplication Result:\n",
            "[[103.  33. 121.]\n",
            " [108.  32. 132.]\n",
            " [ 71.  21.  81.]]\n"
          ]
        }
      ]
    },
    {
      "cell_type": "code",
      "source": [
        "# Step 6: Matrix Transposition\n",
        "def transpose_matrix(m):\n",
        "    return DenseMatrix(m.numCols, m.numRows, m.values, isTransposed=True)\n",
        "\n",
        "result_transpose_a = transpose_matrix(matrix_a)\n",
        "print(\"\\nMatrix Transposition of A:\")\n",
        "print(result_transpose_a.toArray())"
      ],
      "metadata": {
        "colab": {
          "base_uri": "https://localhost:8080/"
        },
        "id": "oi6IK0C80l0X",
        "outputId": "d25b60c0-831d-4ace-eaab-b5340cf34b44"
      },
      "execution_count": null,
      "outputs": [
        {
          "output_type": "stream",
          "name": "stdout",
          "text": [
            "\n",
            "Matrix Transposition of A:\n",
            "[[8. 2. 8.]\n",
            " [4. 2. 6.]\n",
            " [7. 1. 9.]]\n"
          ]
        }
      ]
    }
  ]
}